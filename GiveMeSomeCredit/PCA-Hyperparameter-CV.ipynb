{
  "cells": [
    {
      "cell_type": "markdown",
      "metadata": {
        "id": "ace44e2d"
      },
      "source": [
        "# Give Me Some Credit - PCA/Hyperparameter/CV"
      ],
      "id": "ace44e2d"
    },
    {
      "cell_type": "markdown",
      "metadata": {
        "id": "27f10e87"
      },
      "source": [
        "## 1. Packages importing and data processing"
      ],
      "id": "27f10e87"
    },
    {
      "cell_type": "markdown",
      "metadata": {
        "id": "41f17435"
      },
      "source": [
        "### Basic packages"
      ],
      "id": "41f17435"
    },
    {
      "cell_type": "code",
      "execution_count": null,
      "metadata": {
        "id": "7e61a308"
      },
      "outputs": [],
      "source": [
        "import pandas as pd\n",
        "import numpy as np\n",
        "import matplotlib.pyplot as plt"
      ],
      "id": "7e61a308"
    },
    {
      "cell_type": "markdown",
      "metadata": {
        "id": "ea54a636"
      },
      "source": [
        "### Data processing (Follow the former steps)"
      ],
      "id": "ea54a636"
    },
    {
      "cell_type": "code",
      "execution_count": null,
      "metadata": {
        "id": "4f77a3fd"
      },
      "outputs": [],
      "source": [
        "train_dataset = pd.read_csv('cs-training.csv')\n",
        "train_dataset.head(10)\n",
        "\n",
        "train_dataset.describe() #There is outliers that age == 0\n",
        "train_dataset = train_dataset[train_dataset['age'] > 0] #removing the outliers\n",
        "\n",
        "train_dataset = train_dataset.fillna(train_dataset.mean())#Fill-in the missing values with the column means\n",
        "\n",
        "#Spilt the features and targets\n",
        "X_train = train_dataset.iloc[:,2:] \n",
        "y_train = train_dataset.iloc[:,1]\n",
        "\n",
        "#Standardizing the features\n",
        "from sklearn.preprocessing import StandardScaler\n",
        "sc = StandardScaler()\n",
        "sc.fit(X_train)\n",
        "X_train_std = sc.transform(X_train)\n",
        "\n",
        "#Loading the features in the test data set\n",
        "test_dataset = pd.read_csv('cs-test.csv')\n",
        "test_dataset = test_dataset.fillna(test_dataset.mean()) #Fill-in the missing values with the column means\n",
        "X_test = test_dataset.iloc[:,2:]\n",
        "X_test_std = sc.transform(X_test) #Re-use parameters from the training set\n",
        "\n",
        "#Loading the targets in the test data set\n",
        "y_test = pd.read_csv('sampleEntry.csv')\n",
        "y_test['Probability'] = y_test['Probability'].apply(lambda x: 1 if x > 0.5 else 0)\n",
        "y_to_test = np.array(y_test['Probability'])"
      ],
      "id": "4f77a3fd"
    },
    {
      "cell_type": "markdown",
      "metadata": {
        "id": "c12cbc50"
      },
      "source": [
        "## 2. Principal Component Analysis"
      ],
      "id": "c12cbc50"
    },
    {
      "cell_type": "code",
      "execution_count": null,
      "metadata": {
        "colab": {
          "base_uri": "https://localhost:8080/"
        },
        "id": "3642a86f",
        "outputId": "6247ddef-a3b0-4218-9686-145d3799e47b"
      },
      "outputs": [
        {
          "data": {
            "text/plain": [
              "array([0.2994888 , 0.15331645, 0.12254484, 0.10092081, 0.10010861,\n",
              "       0.09344981, 0.07346596, 0.05430292, 0.00172093, 0.00068085])"
            ]
          },
          "execution_count": 9,
          "metadata": {},
          "output_type": "execute_result"
        }
      ],
      "source": [
        "from sklearn.decomposition import PCA\n",
        "\n",
        "pca = PCA()\n",
        "X_train_pca = pca.fit_transform(X_train_std)\n",
        "pca.explained_variance_ratio_"
      ],
      "id": "3642a86f"
    },
    {
      "cell_type": "code",
      "execution_count": null,
      "metadata": {
        "colab": {
          "base_uri": "https://localhost:8080/",
          "height": 279
        },
        "id": "b173d9af",
        "outputId": "7c3a6372-c21e-4b65-b7c9-af59e8444240"
      },
      "outputs": [
        {
          "data": {
            "image/png": "[encoded data removed]",
            "text/plain": [
              "<Figure size 432x288 with 1 Axes>"
            ]
          },
          "metadata": {},
          "output_type": "display_data"
        }
      ],
      "source": [
        "plt.bar(range(10), pca.explained_variance_ratio_, alpha=0.5, align='center')\n",
        "plt.step(range(10), np.cumsum(pca.explained_variance_ratio_), where='mid')\n",
        "plt.ylabel('Explained variance ratio')\n",
        "plt.xlabel('Principal components')\n",
        "plt.xticks(range(10))\n",
        "plt.show()"
      ],
      "id": "b173d9af"
    },
    {
      "cell_type": "code",
      "execution_count": null,
      "metadata": {
        "id": "70aaf2ba"
      },
      "outputs": [],
      "source": [
        "pca = PCA(n_components=5) #The variance can be explained by the former five factors are above 80%\n",
        "X_train_pca = pca.fit_transform(X_train_std)\n",
        "X_test_pca = pca.transform(X_test_std)"
      ],
      "id": "70aaf2ba"
    },
    {
      "cell_type": "markdown",
      "metadata": {
        "id": "8026c172"
      },
      "source": [
        "## 3. Pipeline Implementation\n",
        "\n"
      ],
      "id": "8026c172"
    },
    {
      "cell_type": "markdown",
      "metadata": {
        "id": "58575637"
      },
      "source": [
        "### Perforamce evaluation model construction"
      ],
      "id": "58575637"
    },
    {
      "cell_type": "code",
      "execution_count": null,
      "metadata": {
        "id": "1b919241"
      },
      "outputs": [],
      "source": [
        "from sklearn import metrics\n",
        "from sklearn.metrics import accuracy_score, precision_score, f1_score, recall_score, confusion_matrix\n",
        "from sklearn.metrics import classification_report\n",
        "import seaborn as sns\n",
        "\n",
        "#Define a function to evaluate and visualize the prediction results of each model\n",
        "def model_evaluation(model, true, predicted):\n",
        "    \n",
        "    train_accuracy = model.score(X_train_std, y_train)\n",
        "    test_accuracy = accuracy_score(true, predicted)\n",
        "    report = classification_report(predicted, true)\n",
        "    print(model,'\\n')\n",
        "    print('Train set Accuracy: ',round((train_accuracy), 2)*100,'%')\n",
        "    print('Test set Accuracy: ',round((test_accuracy), 2)*100,'%')\n",
        "    print('\\n--------------------------------------------------\\n')\n",
        "    print('Model Report: \\n', report)\n",
        "    print('--------------------------------------------------\\n')\n",
        "    print('Confusion Matrix: \\n')\n",
        "    cm = metrics.confusion_matrix(true, predicted)\n",
        "    cm = cm / np.sum(cm, axis = 1)[:,None]\n",
        "    labels = y_train.unique()\n",
        "    sns.set(rc={'figure.figsize':[2,2]})\n",
        "    sns.heatmap(cm, xticklabels = labels,\n",
        "              yticklabels = labels, \n",
        "              annot=True, \n",
        "              cmap = 'YlGnBu_r')\n",
        "    plt.show()\n",
        "    plt.pause(0.05)"
      ],
      "id": "1b919241"
    },
    {
      "cell_type": "markdown",
      "metadata": {
        "id": "00b9e093"
      },
      "source": [
        "### Logistic Regression"
      ],
      "id": "00b9e093"
    },
    {
      "cell_type": "code",
      "execution_count": null,
      "metadata": {
        "colab": {
          "base_uri": "https://localhost:8080/",
          "height": 552
        },
        "id": "373e1947",
        "outputId": "f8689970-e6bb-491e-ab16-055da88962e5"
      },
      "outputs": [
        {
          "name": "stdout",
          "output_type": "stream",
          "text": [
            "Pipeline(steps=[('pca', PCA(n_components=5)),\n",
            "                ('logisticregression', LogisticRegression(random_state=1))]) \n",
            "\n",
            "Train set Accuracy:  93.0 %\n",
            "Test set Accuracy:  98.0 %\n",
            "\n",
            "--------------------------------------------------\n",
            "\n",
            "Model Report: \n",
            "               precision    recall  f1-score   support\n",
            "\n",
            "           0       1.00      0.98      0.99    101285\n",
            "           1       0.08      0.59      0.13       218\n",
            "\n",
            "    accuracy                           0.98    101503\n",
            "   macro avg       0.54      0.79      0.56    101503\n",
            "weighted avg       1.00      0.98      0.99    101503\n",
            "\n",
            "--------------------------------------------------\n",
            "\n",
            "Confusion Matrix: \n",
            "\n"
          ]
        },
        {
          "data": {
            "image/png": "[encoded data removed]",
            "text/plain": [
              "<Figure size 144x144 with 2 Axes>"
            ]
          },
          "metadata": {},
          "output_type": "display_data"
        }
      ],
      "source": [
        "from sklearn.linear_model import LogisticRegression\n",
        "from sklearn.pipeline import make_pipeline\n",
        "\n",
        "pipe_lr = make_pipeline(PCA(n_components=5),\n",
        "                        LogisticRegression(random_state=1, solver='lbfgs')))\n",
        "\n",
        "pipe_lr.fit(X_train_std,y_train)\n",
        "lr_predict = pipe_lr.predict(X_test_std)\n",
        "model_evaluation(pipe_lr, y_to_test, lr_predict)"
      ],
      "id": "373e1947"
    },
    {
      "cell_type": "markdown",
      "metadata": {
        "id": "a8ca81e9"
      },
      "source": [
        "### Support Vector Machine"
      ],
      "id": "a8ca81e9"
    },
    {
      "cell_type": "code",
      "execution_count": null,
      "metadata": {
        "colab": {
          "base_uri": "https://localhost:8080/",
          "height": 608
        },
        "id": "6ad8ff30",
        "outputId": "7d815a2c-620d-4151-d238-ece8186757fc"
      },
      "outputs": [
        {
          "name": "stderr",
          "output_type": "stream",
          "text": [
            "/usr/local/lib/python3.9/dist-packages/sklearn/svm/_base.py:299: ConvergenceWarning: Solver terminated early (max_iter=10000).  Consider pre-processing your data with StandardScaler or MinMaxScaler.\n",
            "  warnings.warn(\n"
          ]
        },
        {
          "name": "stdout",
          "output_type": "stream",
          "text": [
            "Pipeline(steps=[('pca', PCA(n_components=5)),\n",
            "                ('svc', SVC(max_iter=10000, random_state=1))]) \n",
            "\n",
            "Train set Accuracy:  94.0 %\n",
            "Test set Accuracy:  99.0 %\n",
            "\n",
            "--------------------------------------------------\n",
            "\n",
            "Model Report: \n",
            "               precision    recall  f1-score   support\n",
            "\n",
            "           0       1.00      0.99      0.99    100079\n",
            "           1       0.59      0.71      0.65      1424\n",
            "\n",
            "    accuracy                           0.99    101503\n",
            "   macro avg       0.80      0.85      0.82    101503\n",
            "weighted avg       0.99      0.99      0.99    101503\n",
            "\n",
            "--------------------------------------------------\n",
            "\n",
            "Confusion Matrix: \n",
            "\n"
          ]
        },
        {
          "data": {
            "image/png": "[encoded data removed]",
            "text/plain": [
              "<Figure size 144x144 with 2 Axes>"
            ]
          },
          "metadata": {},
          "output_type": "display_data"
        }
      ],
      "source": [
        "from sklearn.svm import SVC\n",
        "\n",
        "pipe_svm = make_pipeline(PCA(n_components=5),\n",
        "                         SVC(kernel='rbf', random_state=1, max_iter=10000))\n",
        "pipe_svm.fit(X_train_std,y_train)\n",
        "svm_predict = pipe_svm.predict(X_test_std)\n",
        "model_evaluation(pipe_svm, y_to_test, svm_predict)"
      ],
      "id": "6ad8ff30"
    },
    {
      "cell_type": "markdown",
      "metadata": {
        "id": "5fbafeeb"
      },
      "source": [
        "### Random Forest"
      ],
      "id": "5fbafeeb"
    },
    {
      "cell_type": "code",
      "execution_count": null,
      "metadata": {
        "colab": {
          "base_uri": "https://localhost:8080/",
          "height": 701
        },
        "id": "9a6d2741",
        "outputId": "4a5dca75-f45c-4fa5-eefe-879e5028874a"
      },
      "outputs": [
        {
          "name": "stderr",
          "output_type": "stream",
          "text": [
            "/usr/local/lib/python3.9/dist-packages/sklearn/metrics/_classification.py:1344: UndefinedMetricWarning: Recall and F-score are ill-defined and being set to 0.0 in labels with no true samples. Use `zero_division` parameter to control this behavior.\n",
            "  _warn_prf(average, modifier, msg_start, len(result))\n",
            "/usr/local/lib/python3.9/dist-packages/sklearn/metrics/_classification.py:1344: UndefinedMetricWarning: Recall and F-score are ill-defined and being set to 0.0 in labels with no true samples. Use `zero_division` parameter to control this behavior.\n",
            "  _warn_prf(average, modifier, msg_start, len(result))\n",
            "/usr/local/lib/python3.9/dist-packages/sklearn/metrics/_classification.py:1344: UndefinedMetricWarning: Recall and F-score are ill-defined and being set to 0.0 in labels with no true samples. Use `zero_division` parameter to control this behavior.\n",
            "  _warn_prf(average, modifier, msg_start, len(result))\n"
          ]
        },
        {
          "name": "stdout",
          "output_type": "stream",
          "text": [
            "Pipeline(steps=[('pca', PCA(n_components=5)),\n",
            "                ('randomforestclassifier',\n",
            "                 RandomForestClassifier(max_depth=3, random_state=1))]) \n",
            "\n",
            "Train set Accuracy:  93.0 %\n",
            "Test set Accuracy:  98.0 %\n",
            "\n",
            "--------------------------------------------------\n",
            "\n",
            "Model Report: \n",
            "               precision    recall  f1-score   support\n",
            "\n",
            "           0       1.00      0.98      0.99    101503\n",
            "           1       0.00      0.00      0.00         0\n",
            "\n",
            "    accuracy                           0.98    101503\n",
            "   macro avg       0.50      0.49      0.50    101503\n",
            "weighted avg       1.00      0.98      0.99    101503\n",
            "\n",
            "--------------------------------------------------\n",
            "\n",
            "Confusion Matrix: \n",
            "\n"
          ]
        },
        {
          "data": {
            "image/png": "[encoded data removed]",
            "text/plain": [
              "<Figure size 144x144 with 2 Axes>"
            ]
          },
          "metadata": {},
          "output_type": "display_data"
        }
      ],
      "source": [
        "from sklearn.ensemble import RandomForestClassifier\n",
        "\n",
        "pipe_rf = make_pipeline(PCA(n_components=5),\n",
        "                         RandomForestClassifier(max_depth=3, random_state=1))\n",
        "pipe_rf.fit(X_train_std,y_train)\n",
        "rf_predict = pipe_rf.predict(X_test_std)\n",
        "model_evaluation(pipe_rf, y_to_test, rf_predict)"
      ],
      "id": "9a6d2741"
    },
    {
      "cell_type": "markdown",
      "metadata": {
        "id": "sWRad1CR2Aod"
      },
      "source": [
        "## 4. Grid Search"
      ],
      "id": "sWRad1CR2Aod"
    },
    {
      "cell_type": "markdown",
      "metadata": {
        "id": "-ArQzFW85tZX"
      },
      "source": [
        "### Logistic Regression"
      ],
      "id": "-ArQzFW85tZX"
    },
    {
      "cell_type": "code",
      "execution_count": null,
      "metadata": {
        "colab": {
          "base_uri": "https://localhost:8080/"
        },
        "id": "f86aaea8",
        "outputId": "3d9b912b-58e0-4f67-88e5-7093b68156e2"
      },
      "outputs": [
        {
          "name": "stdout",
          "output_type": "stream",
          "text": [
            "CV accuracy: 0.933 +/- 0.000\n",
            "The best performance are：0.933\n",
            "The best hyperparamet：\n",
            " {'memory': None, 'steps': [('pca', PCA(n_components=5)), ('logisticregression', LogisticRegression(C=0.0001, random_state=1))], 'verbose': False, 'pca': PCA(n_components=5), 'logisticregression': LogisticRegression(C=0.0001, random_state=1), 'pca__copy': True, 'pca__iterated_power': 'auto', 'pca__n_components': 5, 'pca__n_oversamples': 10, 'pca__power_iteration_normalizer': 'auto', 'pca__random_state': None, 'pca__svd_solver': 'auto', 'pca__tol': 0.0, 'pca__whiten': False, 'logisticregression__C': 0.0001, 'logisticregression__class_weight': None, 'logisticregression__dual': False, 'logisticregression__fit_intercept': True, 'logisticregression__intercept_scaling': 1, 'logisticregression__l1_ratio': None, 'logisticregression__max_iter': 100, 'logisticregression__multi_class': 'auto', 'logisticregression__n_jobs': None, 'logisticregression__penalty': 'l2', 'logisticregression__random_state': 1, 'logisticregression__solver': 'lbfgs', 'logisticregression__tol': 0.0001, 'logisticregression__verbose': 0, 'logisticregression__warm_start': False}\n"
          ]
        }
      ],
      "source": [
        "from sklearn.model_selection import GridSearchCV\n",
        "from sklearn.model_selection import cross_val_score\n",
        "\n",
        "param_range = [0.0001, 0.001, 0.01, 0.1, 1.0, 10.0, 100.0, 1000.0]\n",
        "\n",
        "param_grid = {'logisticregression__C': param_range}\n",
        "\n",
        "grid_lr = GridSearchCV(estimator=pipe_lr,\n",
        "                  param_grid=param_grid,\n",
        "                  scoring='accuracy',\n",
        "                  cv=2)\n",
        "grid_lr.fit(X_train_std, y_train)\n",
        "scores = cross_val_score(pipe_lr, X_train_std, y_train, \n",
        "                         scoring='accuracy', error_score='raise', cv=5)\n",
        "\n",
        "print('CV accuracy: %.3f +/- %.3f' % (np.mean(scores),\n",
        "                                      np.std(scores)))\n",
        "\n",
        "print('The best performance are：%0.3f' % grid_lr.best_score_)\n",
        "\n",
        "best_parameters = grid_lr.best_estimator_.get_params()\n",
        "print('The best hyperparamet：\\n', best_parameters)"
      ],
      "id": "f86aaea8"
    },
    {
      "cell_type": "code",
      "execution_count": null,
      "metadata": {
        "colab": {
          "background_save": true,
          "base_uri": "https://localhost:8080/"
        },
        "id": "_NVq7gCo5ohp",
        "outputId": "f60fd3d4-d619-4e12-8334-b13c9a97bae1"
      },
      "outputs": [
        {
          "name": "stderr",
          "output_type": "stream",
          "text": [
            "/usr/local/lib/python3.9/dist-packages/sklearn/svm/_base.py:299: ConvergenceWarning: Solver terminated early (max_iter=10000).  Consider pre-processing your data with StandardScaler or MinMaxScaler.\n",
            "  warnings.warn(\n",
            "/usr/local/lib/python3.9/dist-packages/sklearn/svm/_base.py:299: ConvergenceWarning: Solver terminated early (max_iter=10000).  Consider pre-processing your data with StandardScaler or MinMaxScaler.\n",
            "  warnings.warn(\n",
            "/usr/local/lib/python3.9/dist-packages/sklearn/svm/_base.py:299: ConvergenceWarning: Solver terminated early (max_iter=10000).  Consider pre-processing your data with StandardScaler or MinMaxScaler.\n",
            "  warnings.warn(\n",
            "/usr/local/lib/python3.9/dist-packages/sklearn/svm/_base.py:299: ConvergenceWarning: Solver terminated early (max_iter=10000).  Consider pre-processing your data with StandardScaler or MinMaxScaler.\n",
            "  warnings.warn(\n",
            "/usr/local/lib/python3.9/dist-packages/sklearn/svm/_base.py:299: ConvergenceWarning: Solver terminated early (max_iter=10000).  Consider pre-processing your data with StandardScaler or MinMaxScaler.\n",
            "  warnings.warn(\n",
            "/usr/local/lib/python3.9/dist-packages/sklearn/svm/_base.py:299: ConvergenceWarning: Solver terminated early (max_iter=10000).  Consider pre-processing your data with StandardScaler or MinMaxScaler.\n",
            "  warnings.warn(\n",
            "/usr/local/lib/python3.9/dist-packages/sklearn/svm/_base.py:299: ConvergenceWarning: Solver terminated early (max_iter=10000).  Consider pre-processing your data with StandardScaler or MinMaxScaler.\n",
            "  warnings.warn(\n",
            "/usr/local/lib/python3.9/dist-packages/sklearn/svm/_base.py:299: ConvergenceWarning: Solver terminated early (max_iter=10000).  Consider pre-processing your data with StandardScaler or MinMaxScaler.\n",
            "  warnings.warn(\n",
            "/usr/local/lib/python3.9/dist-packages/sklearn/svm/_base.py:299: ConvergenceWarning: Solver terminated early (max_iter=10000).  Consider pre-processing your data with StandardScaler or MinMaxScaler.\n",
            "  warnings.warn(\n",
            "/usr/local/lib/python3.9/dist-packages/sklearn/svm/_base.py:299: ConvergenceWarning: Solver terminated early (max_iter=10000).  Consider pre-processing your data with StandardScaler or MinMaxScaler.\n",
            "  warnings.warn(\n",
            "/usr/local/lib/python3.9/dist-packages/sklearn/svm/_base.py:299: ConvergenceWarning: Solver terminated early (max_iter=10000).  Consider pre-processing your data with StandardScaler or MinMaxScaler.\n",
            "  warnings.warn(\n",
            "/usr/local/lib/python3.9/dist-packages/sklearn/svm/_base.py:299: ConvergenceWarning: Solver terminated early (max_iter=10000).  Consider pre-processing your data with StandardScaler or MinMaxScaler.\n",
            "  warnings.warn(\n"
          ]
        },
        {
          "name": "stdout",
          "output_type": "stream",
          "text": [
            "CV accuracy: 0.934 +/- 0.000\n",
            "The best performance are：0.933\n",
            "The best hyperparamet：\n",
            " {'memory': None, 'steps': [('pca', PCA(n_components=5)), ('svc', SVC(C=0.1, kernel='linear', max_iter=10000, random_state=1))], 'verbose': False, 'pca': PCA(n_components=5), 'svc': SVC(C=0.1, kernel='linear', max_iter=10000, random_state=1), 'pca__copy': True, 'pca__iterated_power': 'auto', 'pca__n_components': 5, 'pca__n_oversamples': 10, 'pca__power_iteration_normalizer': 'auto', 'pca__random_state': None, 'pca__svd_solver': 'auto', 'pca__tol': 0.0, 'pca__whiten': False, 'svc__C': 0.1, 'svc__break_ties': False, 'svc__cache_size': 200, 'svc__class_weight': None, 'svc__coef0': 0.0, 'svc__decision_function_shape': 'ovr', 'svc__degree': 3, 'svc__gamma': 'scale', 'svc__kernel': 'linear', 'svc__max_iter': 10000, 'svc__probability': False, 'svc__random_state': 1, 'svc__shrinking': True, 'svc__tol': 0.001, 'svc__verbose': False}\n"
          ]
        }
      ],
      "source": [
        "param_range = [ 0.001, 0.01, 0.1]\n",
        "\n",
        "param_grid = [{'svc__C': param_range, \n",
        "               'svc__kernel': ['linear']},\n",
        "              {'svc__C': param_range, \n",
        "               'svc__gamma': param_range, \n",
        "               'svc__kernel': ['rbf']}]\n",
        "\n",
        "grid_svm = GridSearchCV(estimator=pipe_svm,\n",
        "                  param_grid=param_grid,\n",
        "                  scoring='accuracy',\n",
        "                  cv=2)\n",
        "grid_svm.fit(X_train_std, y_train)\n",
        "scores = cross_val_score(pipe_svm, X_train_std, y_train, \n",
        "                         scoring='accuracy', cv=5)\n",
        "print('CV accuracy: %.3f +/- %.3f' % (np.mean(scores),\n",
        "                                      np.std(scores)))\n",
        "\n",
        "print('The best performance are：%0.3f' % grid_svm.best_score_)\n",
        "\n",
        "best_parameters = grid_svm.best_estimator_.get_params()\n",
        "print('The best hyperparamet：\\n', best_parameters)"
      ],
      "id": "_NVq7gCo5ohp"
    },
    {
      "cell_type": "markdown",
      "metadata": {
        "id": "wvJw6Abd9fRZ"
      },
      "source": [
        "### Random Forest"
      ],
      "id": "wvJw6Abd9fRZ"
    },
    {
      "cell_type": "code",
      "execution_count": null,
      "metadata": {
        "colab": {
          "base_uri": "https://localhost:8080/"
        },
        "id": "R8HnpiZI5oqI",
        "outputId": "3b373e10-1875-46e4-96d2-36dfde852fc7"
      },
      "outputs": [
        {
          "name": "stdout",
          "output_type": "stream",
          "text": [
            "CV accuracy: 0.933 +/- 0.000\n",
            "The best performance are：0.933\n",
            "The best hyperparameters：\n",
            " {'memory': None, 'steps': [('pca', PCA(n_components=5)), ('randomforestclassifier', RandomForestClassifier(max_depth=20, random_state=1))], 'verbose': False, 'pca': PCA(n_components=5), 'randomforestclassifier': RandomForestClassifier(max_depth=20, random_state=1), 'pca__copy': True, 'pca__iterated_power': 'auto', 'pca__n_components': 5, 'pca__n_oversamples': 10, 'pca__power_iteration_normalizer': 'auto', 'pca__random_state': None, 'pca__svd_solver': 'auto', 'pca__tol': 0.0, 'pca__whiten': False, 'randomforestclassifier__bootstrap': True, 'randomforestclassifier__ccp_alpha': 0.0, 'randomforestclassifier__class_weight': None, 'randomforestclassifier__criterion': 'gini', 'randomforestclassifier__max_depth': 20, 'randomforestclassifier__max_features': 'sqrt', 'randomforestclassifier__max_leaf_nodes': None, 'randomforestclassifier__max_samples': None, 'randomforestclassifier__min_impurity_decrease': 0.0, 'randomforestclassifier__min_samples_leaf': 1, 'randomforestclassifier__min_samples_split': 2, 'randomforestclassifier__min_weight_fraction_leaf': 0.0, 'randomforestclassifier__n_estimators': 100, 'randomforestclassifier__n_jobs': None, 'randomforestclassifier__oob_score': False, 'randomforestclassifier__random_state': 1, 'randomforestclassifier__verbose': 0, 'randomforestclassifier__warm_start': False}\n"
          ]
        }
      ],
      "source": [
        "param_grid = {'randomforestclassifier__max_depth': [20,30,40,100,110]}\n",
        "\n",
        "grid_rf = GridSearchCV(estimator=pipe_rf,\n",
        "                  param_grid=param_grid,\n",
        "                  scoring='accuracy',\n",
        "                  cv=2)\n",
        "\n",
        "grid_rf.fit(X_train_std, y_train)\n",
        "\n",
        "scores = cross_val_score(pipe_rf, X_train_std, y_train, \n",
        "                         scoring='accuracy', cv=5)\n",
        "\n",
        "print('CV accuracy: %.3f +/- %.3f' % (np.mean(scores),\n",
        "                                      np.std(scores)))\n",
        "\n",
        "print('The best performance are：%0.3f' % grid_rf.best_score_)\n",
        "\n",
        "best_parameters = grid_rf.best_estimator_.get_params()\n",
        "print('The best hyperparameters：\\n', best_parameters)"
      ],
      "id": "R8HnpiZI5oqI"
    },
    {
      "cell_type": "code",
      "execution_count": null,
      "metadata": {
        "id": "OmyvBi5h5ose"
      },
      "outputs": [],
      "source": [],
      "id": "OmyvBi5h5ose"
    }
  ],
  "metadata": {
    "colab": {
      "provenance": []
    },
    "kernelspec": {
      "display_name": "Python 3 (ipykernel)",
      "language": "python",
      "name": "python3"
    },
    "language_info": {
      "codemirror_mode": {
        "name": "ipython",
        "version": 3
      },
      "file_extension": ".py",
      "mimetype": "text/x-python",
      "name": "python",
      "nbconvert_exporter": "python",
      "pygments_lexer": "ipython3",
      "version": "3.9.13"
    }
  },
  "nbformat": 4,
  "nbformat_minor": 5
}